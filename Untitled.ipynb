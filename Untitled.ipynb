{
 "cells": [
  {
   "cell_type": "code",
   "execution_count": 12,
   "id": "ec38c468-52ce-4092-9257-ec87c7f34392",
   "metadata": {},
   "outputs": [
    {
     "name": "stdin",
     "output_type": "stream",
     "text": [
      "Enter the temperature:  20\n",
      "Enter 'C' for Celsius to Fahrenheit, or 'F' for Fahrenheit to Celsius:  F\n"
     ]
    },
    {
     "name": "stdout",
     "output_type": "stream",
     "text": [
      "36.0 from the fahrenheit to celsisus\n"
     ]
    }
   ],
   "source": [
    "# Task 1: Temperature Converter Using Conditional Operators\n",
    "temp = float(input(\"Enter the temperature: \"))\n",
    "direction = input(\"Enter 'C' for Celsius to Fahrenheit, or 'F' for Fahrenheit to Celsius: \").upper()\n",
    "\n",
    "if direction == 'C':\n",
    "    print(f\"{temp *3} from the celsisus to fahrenheit\")\n",
    "elif direction == 'F':\n",
    "    print(f\"{temp*1.8} from the fahrenheit to celsisus\")\n"
   ]
  },
  {
   "cell_type": "code",
   "execution_count": null,
   "id": "8683ba71-498c-4aea-803f-4ca032a5a7e7",
   "metadata": {},
   "outputs": [],
   "source": [
    "# Task 2: Guess the Number Game\n",
    "import random\n",
    "target = random.randint(1, 100)\n",
    "while True:\n",
    "    guess = input(\"Guess the number (or type 'q' to quit): \")\n",
    "    if guess.lower() == 'q':\n",
    "        print(\"Exiting the game.\")\n",
    "        break\n",
    "    guess = int(guess)\n",
    "    if guess > target:\n",
    "        print(\"Too high!\")\n",
    "    elif guess < target:\n",
    "        print(\"Too low!\")\n",
    "    else:\n",
    "        print(\"Congratulations! You guessed the correct number.\")\n",
    "        break"
   ]
  },
  {
   "cell_type": "code",
   "execution_count": null,
   "id": "18308d7f-3676-4062-bafd-cda0b71d91f9",
   "metadata": {},
   "outputs": [],
   "source": [
    "# Task 3: Fibonacci Sequence Generator\n",
    "terms = int(input(\"Enter the number of terms for the Fibonacci sequence: \"))\n",
    "a, b = 0, 1\n",
    "for _ in range(terms):\n",
    "    print(a)\n",
    "    a, b = b, a + b"
   ]
  },
  {
   "cell_type": "code",
   "execution_count": null,
   "id": "aaff4190-7386-416c-8657-c5bd1161fc48",
   "metadata": {},
   "outputs": [],
   "source": [
    "# Task 4: Working with Dictionaries and Loops\n",
    "products = {\"Apple\": 1.5, \"Banana\": 0.75, \"Milk\": 2.0, \"Bread\": 1.2, \"Eggs\": 3.0}\n",
    "total_cost = 0\n",
    "for product, price in products.items():\n",
    "    print(f\"{product}: ${price}\")\n",
    "    total_cost += price\n",
    "print(f\"Total cost: ${total_cost}\")"
   ]
  },
  {
   "cell_type": "code",
   "execution_count": null,
   "id": "80200b4e-06b2-4a02-bd70-ae6731a7ce57",
   "metadata": {},
   "outputs": [],
   "source": [
    "# Task 5: Unique Word Counter\n",
    "sentence = input(\"Enter a sentence: \")\n",
    "words = sentence.split()\n",
    "unique_words = set(words)\n",
    "print(f\"Number of unique words: {len(unique_words)}\")"
   ]
  },
  {
   "cell_type": "code",
   "execution_count": null,
   "id": "3770e0b2-1800-4102-92ce-d0ec71d5d3cf",
   "metadata": {},
   "outputs": [],
   "source": [
    "# Task 6: Prime Number Checker\n",
    "number = int(input(\"Enter a number to check if it's prime: \"))\n",
    "is_prime = True\n",
    "if number < 2:\n",
    "    is_prime = False\n",
    "else:\n",
    "    for i in range(2, int(number ** 0.5) + 1):\n",
    "        if number % i == 0:\n",
    "            is_prime = False\n",
    "            break\n",
    "if is_prime:\n",
    "    print(f\"{number} is a prime number.\")\n",
    "else:\n",
    "    print(f\"{number} is not a prime number.\")"
   ]
  },
  {
   "cell_type": "code",
   "execution_count": null,
   "id": "20a4693b-755b-4603-a1ef-05de3cc34e4e",
   "metadata": {},
   "outputs": [],
   "source": [
    "# Task 7: Simple Text-Based Menu\n",
    "while True:\n",
    "    print(\"\\nMenu:\")\n",
    "    print(\"1. Add\")\n",
    "    print(\"2. Subtract\")\n",
    "    print(\"3. Multiply\")\n",
    "    print(\"4. Exit\")\n",
    "    choice = input(\"Choose an option: \")\n",
    "\n",
    "    if choice == '1':\n",
    "        x = float(input(\"Enter first number: \"))\n",
    "        y = float(input(\"Enter second number: \"))\n",
    "        print(f\"The result is: {x + y}\")\n",
    "    elif choice == '2':\n",
    "        x = float(input(\"Enter first number: \"))\n",
    "        y = float(input(\"Enter second number: \"))\n",
    "        print(f\"The result is: {x - y}\")\n",
    "    elif choice == '3':\n",
    "        x = float(input(\"Enter first number: \"))\n",
    "        y = float(input(\"Enter second number: \"))\n",
    "        print(f\"The result is: {x * y}\")\n",
    "    elif choice == '4':\n",
    "        print(\"Exiting the menu.\")\n",
    "        break\n",
    "    else:\n",
    "        print(\"Invalid option. Please try again.\")"
   ]
  }
 ],
 "metadata": {
  "kernelspec": {
   "display_name": "Python 3 (ipykernel)",
   "language": "python",
   "name": "python3"
  },
  "language_info": {
   "codemirror_mode": {
    "name": "ipython",
    "version": 3
   },
   "file_extension": ".py",
   "mimetype": "text/x-python",
   "name": "python",
   "nbconvert_exporter": "python",
   "pygments_lexer": "ipython3",
   "version": "3.13.0"
  }
 },
 "nbformat": 4,
 "nbformat_minor": 5
}
